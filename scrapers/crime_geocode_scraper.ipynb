{
 "cells": [
  {
   "cell_type": "markdown",
   "id": "1872c746-2688-4d22-b997-23deba1f2c2f",
   "metadata": {},
   "source": [
    "## Import Libraries"
   ]
  },
  {
   "cell_type": "code",
   "execution_count": 11,
   "id": "9c2d148e-3630-4f35-b68c-f65df6c80cdf",
   "metadata": {},
   "outputs": [],
   "source": [
    "import pandas as pd\n",
    "\n",
    "# used for getting latitude and longitude from google maps\n",
    "import re\n",
    "\n",
    "# scraping tools\n",
    "from bs4 import BeautifulSoup\n",
    "from selenium import webdriver\n",
    "from selenium.webdriver.common.by import By\n",
    "from selenium.webdriver.common.keys import Keys\n",
    "from selenium.webdriver.support.wait import WebDriverWait\n",
    "from selenium.webdriver.support import expected_conditions as EC \n",
    "\n",
    "# evade scraping detection\n",
    "import time\n",
    "import random"
   ]
  },
  {
   "cell_type": "markdown",
   "id": "48aedf89-3f59-4011-a0dc-30130b04fb2a",
   "metadata": {},
   "source": [
    "## Import Dataframe"
   ]
  },
  {
   "cell_type": "code",
   "execution_count": 12,
   "id": "0124b086-8384-4793-9490-39db92f73075",
   "metadata": {},
   "outputs": [],
   "source": [
    "crime_log_clean = pd.read_csv('../data/crime-log-clean.csv')"
   ]
  },
  {
   "cell_type": "code",
   "execution_count": 13,
   "id": "eb933ba7-11cf-4d36-81f9-040fcfdabd00",
   "metadata": {
    "tags": []
   },
   "outputs": [
    {
     "data": {
      "text/html": [
       "<div>\n",
       "<style scoped>\n",
       "    .dataframe tbody tr th:only-of-type {\n",
       "        vertical-align: middle;\n",
       "    }\n",
       "\n",
       "    .dataframe tbody tr th {\n",
       "        vertical-align: top;\n",
       "    }\n",
       "\n",
       "    .dataframe thead th {\n",
       "        text-align: right;\n",
       "    }\n",
       "</style>\n",
       "<table border=\"1\" class=\"dataframe\">\n",
       "  <thead>\n",
       "    <tr style=\"text-align: right;\">\n",
       "      <th></th>\n",
       "      <th>case_number</th>\n",
       "      <th>time_reported</th>\n",
       "      <th>time_started</th>\n",
       "      <th>time_ended</th>\n",
       "      <th>location_of_occurence</th>\n",
       "      <th>domestic_relationship</th>\n",
       "      <th>incident_type</th>\n",
       "      <th>criminal_offense</th>\n",
       "      <th>disposition</th>\n",
       "    </tr>\n",
       "  </thead>\n",
       "  <tbody>\n",
       "    <tr>\n",
       "      <th>0</th>\n",
       "      <td>202300548</td>\n",
       "      <td>2023-04-24 16:56:00</td>\n",
       "      <td>2023-04-24 16:56:00</td>\n",
       "      <td>2023-04-24 16:56:00</td>\n",
       "      <td>907 HITT ST, COLUMBIA MO, 65201</td>\n",
       "      <td>NO</td>\n",
       "      <td>PROPERTY DAMAGE</td>\n",
       "      <td>PROPERTY DAMAGE</td>\n",
       "      <td>ACTIVE</td>\n",
       "    </tr>\n",
       "    <tr>\n",
       "      <th>1</th>\n",
       "      <td>202300546</td>\n",
       "      <td>2023-04-24 05:57:00</td>\n",
       "      <td>2023-04-24 05:57:00</td>\n",
       "      <td>2023-04-24 05:57:00</td>\n",
       "      <td>3 HOSPITAL DR, COLUMBIA MO, 65201</td>\n",
       "      <td>NO</td>\n",
       "      <td>OFFICE INFORMATION (MUPD)</td>\n",
       "      <td>OFFICE INFORMATION (MUPD)</td>\n",
       "      <td>CLOSED</td>\n",
       "    </tr>\n",
       "    <tr>\n",
       "      <th>2</th>\n",
       "      <td>202300545</td>\n",
       "      <td>2023-04-23 18:26:00</td>\n",
       "      <td>2023-04-23 18:26:00</td>\n",
       "      <td>2023-04-23 18:26:00</td>\n",
       "      <td>904 ELM STREET/ EIGHTH STREET, COLUMBIA MO, 65...</td>\n",
       "      <td>NO</td>\n",
       "      <td>HARASSMENT</td>\n",
       "      <td>HARASSMENT</td>\n",
       "      <td>ACTIVE</td>\n",
       "    </tr>\n",
       "    <tr>\n",
       "      <th>3</th>\n",
       "      <td>202300544</td>\n",
       "      <td>2023-04-23 10:08:08</td>\n",
       "      <td>2023-04-23 08:08:41</td>\n",
       "      <td>2023-04-23 10:08:08</td>\n",
       "      <td>1 HOSPITAL DR, COLUMBIA MO, 65201</td>\n",
       "      <td>NO</td>\n",
       "      <td>ASSAULT-SIMPLE</td>\n",
       "      <td>ASSAULT-SIMPLE</td>\n",
       "      <td>CLEARED BY ARREST</td>\n",
       "    </tr>\n",
       "    <tr>\n",
       "      <th>4</th>\n",
       "      <td>202300544</td>\n",
       "      <td>2023-04-23 10:08:08</td>\n",
       "      <td>2023-04-23 08:08:41</td>\n",
       "      <td>2023-04-23 10:08:08</td>\n",
       "      <td>1 HOSPITAL DR, COLUMBIA MO, 65201</td>\n",
       "      <td>NO</td>\n",
       "      <td>OTHER OFFENSE - NOT REPORTABLE</td>\n",
       "      <td>ASSAULT-SIMPLE</td>\n",
       "      <td>CLEARED BY ARREST</td>\n",
       "    </tr>\n",
       "  </tbody>\n",
       "</table>\n",
       "</div>"
      ],
      "text/plain": [
       "   case_number        time_reported         time_started           time_ended  \\\n",
       "0    202300548  2023-04-24 16:56:00  2023-04-24 16:56:00  2023-04-24 16:56:00   \n",
       "1    202300546  2023-04-24 05:57:00  2023-04-24 05:57:00  2023-04-24 05:57:00   \n",
       "2    202300545  2023-04-23 18:26:00  2023-04-23 18:26:00  2023-04-23 18:26:00   \n",
       "3    202300544  2023-04-23 10:08:08  2023-04-23 08:08:41  2023-04-23 10:08:08   \n",
       "4    202300544  2023-04-23 10:08:08  2023-04-23 08:08:41  2023-04-23 10:08:08   \n",
       "\n",
       "                               location_of_occurence domestic_relationship  \\\n",
       "0               907 HITT ST, COLUMBIA MO, 65201                       NO     \n",
       "1             3 HOSPITAL DR, COLUMBIA MO, 65201                       NO     \n",
       "2  904 ELM STREET/ EIGHTH STREET, COLUMBIA MO, 65...                  NO     \n",
       "3             1 HOSPITAL DR, COLUMBIA MO, 65201                       NO     \n",
       "4             1 HOSPITAL DR, COLUMBIA MO, 65201                       NO     \n",
       "\n",
       "                    incident_type           criminal_offense  \\\n",
       "0                 PROPERTY DAMAGE            PROPERTY DAMAGE   \n",
       "1       OFFICE INFORMATION (MUPD)  OFFICE INFORMATION (MUPD)   \n",
       "2                      HARASSMENT                 HARASSMENT   \n",
       "3                  ASSAULT-SIMPLE             ASSAULT-SIMPLE   \n",
       "4  OTHER OFFENSE - NOT REPORTABLE             ASSAULT-SIMPLE   \n",
       "\n",
       "         disposition  \n",
       "0             ACTIVE  \n",
       "1             CLOSED  \n",
       "2             ACTIVE  \n",
       "3  CLEARED BY ARREST  \n",
       "4  CLEARED BY ARREST  "
      ]
     },
     "execution_count": 13,
     "metadata": {},
     "output_type": "execute_result"
    }
   ],
   "source": [
    "crime_log_clean.head()"
   ]
  },
  {
   "cell_type": "code",
   "execution_count": null,
   "id": "9fbb4c67-aa92-4c2f-ae6d-17af37c55a5a",
   "metadata": {},
   "outputs": [],
   "source": []
  },
  {
   "cell_type": "code",
   "execution_count": 14,
   "id": "e64cc320-aebe-474c-968f-52c6657c1deb",
   "metadata": {},
   "outputs": [],
   "source": [
    "# the main search url\n",
    "main_url = 'https://www.google.com/maps/search/'\n",
    "\n",
    "# list of longitude latitude coordinates that will become dataframe\n",
    "geocode_list = []"
   ]
  },
  {
   "cell_type": "code",
   "execution_count": null,
   "id": "d398b9a3-2a48-4a66-9e6f-8d442505f613",
   "metadata": {},
   "outputs": [],
   "source": []
  }
 ],
 "metadata": {
  "kernelspec": {
   "display_name": "Python [conda env:health-inspections]",
   "language": "python",
   "name": "conda-env-health-inspections-py"
  },
  "language_info": {
   "codemirror_mode": {
    "name": "ipython",
    "version": 3
   },
   "file_extension": ".py",
   "mimetype": "text/x-python",
   "name": "python",
   "nbconvert_exporter": "python",
   "pygments_lexer": "ipython3",
   "version": "3.10.8"
  }
 },
 "nbformat": 4,
 "nbformat_minor": 5
}
