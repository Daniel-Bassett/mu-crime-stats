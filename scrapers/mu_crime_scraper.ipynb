{
 "cells": [
  {
   "cell_type": "markdown",
   "id": "26e7607d-4bb1-44fe-aa21-78ec4eeb7dcd",
   "metadata": {},
   "source": [
    "## Import Libraries"
   ]
  },
  {
   "cell_type": "code",
   "execution_count": 1,
   "id": "dde15992-3db3-4534-b99f-9584966ce9cc",
   "metadata": {},
   "outputs": [],
   "source": [
    "# send requests and parse data\n",
    "import requests\n",
    "import json\n",
    "from bs4 import BeautifulSoup\n",
    "from lxml import etree\n",
    "\n",
    "\n",
    "# data wrangling and organizing\n",
    "import pandas as pd\n",
    "import re"
   ]
  },
  {
   "cell_type": "markdown",
   "id": "6fc1bf22-fa80-4686-9b43-5f2533d744e5",
   "metadata": {},
   "source": [
    "## Create Variables"
   ]
  },
  {
   "cell_type": "code",
   "execution_count": 2,
   "id": "ce21f939-23ad-4dc5-916a-f2911d18fb81",
   "metadata": {},
   "outputs": [],
   "source": [
    "headers = {\n",
    "    'User-Agent': 'Mozilla/5.0 (Windows NT 10.0; Win64; x64) AppleWebKit/537.36 (KHTML, like Gecko) Chrome/112.0.0.0 Safari/537.36 Edg/112.0.1722.58',\n",
    "    'Content-Type': 'application/x-www-form-urlencoded'\n",
    "}\n",
    "\n",
    "data = {\n",
    "    'sfilter': 0\n",
    "}\n",
    "\n",
    "url = 'http://muop-mupdreports.missouri.edu/dclog.php?sfilter=0'"
   ]
  },
  {
   "cell_type": "code",
   "execution_count": 3,
   "id": "2428a0f0-154c-4b50-b4d6-18b24de8ce57",
   "metadata": {},
   "outputs": [],
   "source": [
    "# define list that will be converted to dataframe\n",
    "incident_list = []"
   ]
  },
  {
   "cell_type": "markdown",
   "id": "0afa7721-07c3-447a-b13c-d1e86ceb813a",
   "metadata": {},
   "source": [
    "## Scrape Data"
   ]
  },
  {
   "cell_type": "code",
   "execution_count": 4,
   "id": "46ad7b88-29bb-4261-88ed-62607674f494",
   "metadata": {},
   "outputs": [],
   "source": [
    "r = requests.post(url, headers=headers, data=data)"
   ]
  },
  {
   "cell_type": "code",
   "execution_count": 5,
   "id": "22f867cb-9abb-4332-9f07-8b4b86ff5623",
   "metadata": {},
   "outputs": [],
   "source": [
    "soup = BeautifulSoup(r.text, 'html.parser')"
   ]
  },
  {
   "cell_type": "code",
   "execution_count": 6,
   "id": "2c20e343-32c6-442e-bc8b-7031f97e98bf",
   "metadata": {
    "tags": []
   },
   "outputs": [],
   "source": [
    "html = etree.HTML(str(soup))"
   ]
  },
  {
   "cell_type": "code",
   "execution_count": 7,
   "id": "63195682-acc0-483f-a509-54a2a9b3b87f",
   "metadata": {},
   "outputs": [],
   "source": [
    "incidents_raw = html.xpath('//div[@class=\"report_table\"]//tr')"
   ]
  },
  {
   "cell_type": "markdown",
   "id": "d27bc6db-4485-46c0-941a-3810d21b8315",
   "metadata": {},
   "source": [
    "## Parse Data"
   ]
  },
  {
   "cell_type": "code",
   "execution_count": 8,
   "id": "04074fe5-1dfb-4f09-a7e1-bf018733dce0",
   "metadata": {},
   "outputs": [],
   "source": [
    "# this contains all the information\n",
    "incidents_info_list = incidents_raw[2::2]\n",
    "\n",
    "# for some reason, the time occured is in its own tr tag\n",
    "time_occured_list = incidents_raw[3::2]"
   ]
  },
  {
   "cell_type": "code",
   "execution_count": 9,
   "id": "600c190c-15c5-4252-8a04-51ef54473200",
   "metadata": {},
   "outputs": [],
   "source": [
    "for incident, time_occured in zip(incidents_info_list, time_occured_list):\n",
    "    temp_list = []\n",
    "    for column in incident:\n",
    "        temp_list.append(column.text)\n",
    "    temp_list.append(time_occured.getchildren()[0].getchildren()[0].text)\n",
    "    incident_list.append(temp_list)"
   ]
  },
  {
   "cell_type": "markdown",
   "id": "fb116ec9-f1f6-4765-b22d-7a5cb76546d3",
   "metadata": {},
   "source": [
    "## Convert to Dataframe and Export"
   ]
  },
  {
   "cell_type": "code",
   "execution_count": 10,
   "id": "85178ff0-1d9a-464f-9b23-eaac47b79539",
   "metadata": {},
   "outputs": [],
   "source": [
    "df = pd.DataFrame(incident_list)"
   ]
  },
  {
   "cell_type": "code",
   "execution_count": 11,
   "id": "0409ee45-74a6-4881-8252-b61bbbc7d0ba",
   "metadata": {},
   "outputs": [],
   "source": [
    "# reindex columns so that time_reported and time_occured are next to each other\n",
    "df = df.reindex(columns=[0, 1, 7, 2, 3, 4, 5, 6])"
   ]
  },
  {
   "cell_type": "code",
   "execution_count": 12,
   "id": "12e668bd-997e-4c82-af6f-e93d1c3010cd",
   "metadata": {},
   "outputs": [],
   "source": [
    "# rename columns\n",
    "df = df.rename(columns={\n",
    "        0: 'case_number', \n",
    "        1: 'time_reported', \n",
    "        2: 'location_of_occurence', \n",
    "        3: 'domestic_relationship',\n",
    "        4: 'incident_type',\n",
    "        5: 'criminal_offense',\n",
    "        6: 'disposition',\n",
    "        7: 'time_occured'\n",
    "    })"
   ]
  },
  {
   "cell_type": "code",
   "execution_count": 13,
   "id": "5f338bb2-142f-4d29-88c9-28acb0d93e7e",
   "metadata": {},
   "outputs": [],
   "source": [
    "df.to_csv('../data/crime-log.csv', index=False)"
   ]
  }
 ],
 "metadata": {
  "kernelspec": {
   "display_name": "Python [conda env:health-inspections]",
   "language": "python",
   "name": "conda-env-health-inspections-py"
  },
  "language_info": {
   "codemirror_mode": {
    "name": "ipython",
    "version": 3
   },
   "file_extension": ".py",
   "mimetype": "text/x-python",
   "name": "python",
   "nbconvert_exporter": "python",
   "pygments_lexer": "ipython3",
   "version": "3.10.8"
  }
 },
 "nbformat": 4,
 "nbformat_minor": 5
}
