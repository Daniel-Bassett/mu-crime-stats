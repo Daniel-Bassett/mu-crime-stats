{
 "cells": [
  {
   "cell_type": "markdown",
   "id": "8ad5b8df-e9e4-4999-91ee-1bb41753fc03",
   "metadata": {},
   "source": [
    "## Import Libraries"
   ]
  },
  {
   "cell_type": "code",
   "execution_count": 1,
   "id": "1ca95720-e388-4199-a121-4c63d426abb2",
   "metadata": {},
   "outputs": [],
   "source": [
    "import pandas as pd"
   ]
  },
  {
   "cell_type": "markdown",
   "id": "2f3b519d-9c32-40d8-8759-2708d0ed606d",
   "metadata": {},
   "source": [
    "## Import Dataframe"
   ]
  },
  {
   "cell_type": "code",
   "execution_count": 2,
   "id": "95116260-789c-4119-bc55-9291a7b066f2",
   "metadata": {},
   "outputs": [],
   "source": [
    "crime_log = pd.read_csv('../data/crime-log.csv')"
   ]
  },
  {
   "cell_type": "markdown",
   "id": "9cbda4c3-57e7-4926-8f29-f57e974b63aa",
   "metadata": {},
   "source": [
    "## Clean the Data"
   ]
  },
  {
   "cell_type": "code",
   "execution_count": 3,
   "id": "510df717-50bc-4546-ace0-d42066d58cf5",
   "metadata": {},
   "outputs": [
    {
     "data": {
      "text/html": [
       "<div>\n",
       "<style scoped>\n",
       "    .dataframe tbody tr th:only-of-type {\n",
       "        vertical-align: middle;\n",
       "    }\n",
       "\n",
       "    .dataframe tbody tr th {\n",
       "        vertical-align: top;\n",
       "    }\n",
       "\n",
       "    .dataframe thead th {\n",
       "        text-align: right;\n",
       "    }\n",
       "</style>\n",
       "<table border=\"1\" class=\"dataframe\">\n",
       "  <thead>\n",
       "    <tr style=\"text-align: right;\">\n",
       "      <th></th>\n",
       "      <th>case_number</th>\n",
       "      <th>time_reported</th>\n",
       "      <th>time_occured</th>\n",
       "      <th>location_of_occurence</th>\n",
       "      <th>domestic_relationship</th>\n",
       "      <th>incident_type</th>\n",
       "      <th>criminal_offense</th>\n",
       "      <th>disposition</th>\n",
       "    </tr>\n",
       "  </thead>\n",
       "  <tbody>\n",
       "    <tr>\n",
       "      <th>0</th>\n",
       "      <td>202300548</td>\n",
       "      <td>04/24/2023 04:56:00 pm</td>\n",
       "      <td>04/24/2023 04:56:00 pm-04/24/2023 04:56:00 pm</td>\n",
       "      <td>907 HITT ST , COLUMBIA MO, 65201</td>\n",
       "      <td>NO</td>\n",
       "      <td>PROPERTY DAMAGE</td>\n",
       "      <td>PROPERTY DAMAGE</td>\n",
       "      <td>ACTIVE</td>\n",
       "    </tr>\n",
       "    <tr>\n",
       "      <th>1</th>\n",
       "      <td>202300546</td>\n",
       "      <td>04/24/2023 05:57:00 am</td>\n",
       "      <td>04/24/2023 05:57:00 am-04/24/2023 05:57:00 am</td>\n",
       "      <td>3 HOSPITAL DR , COLUMBIA MO, 65201</td>\n",
       "      <td>NO</td>\n",
       "      <td>OFFICE INFORMATION (MUPD)</td>\n",
       "      <td>OFFICE INFORMATION (MUPD)</td>\n",
       "      <td>CLOSED</td>\n",
       "    </tr>\n",
       "    <tr>\n",
       "      <th>2</th>\n",
       "      <td>202300545</td>\n",
       "      <td>04/23/2023 06:26:00 pm</td>\n",
       "      <td>04/23/2023 06:26:00 pm-04/23/2023 06:26:00 pm</td>\n",
       "      <td>904 ELM STREET/ EIGHTH STREET , COLUMBIA MO, 6...</td>\n",
       "      <td>NO</td>\n",
       "      <td>HARASSMENT</td>\n",
       "      <td>HARASSMENT</td>\n",
       "      <td>ACTIVE</td>\n",
       "    </tr>\n",
       "    <tr>\n",
       "      <th>3</th>\n",
       "      <td>202300544</td>\n",
       "      <td>04/23/2023 10:08:08 am</td>\n",
       "      <td>04/23/2023 08:08:41 am-04/23/2023 10:08:08 am</td>\n",
       "      <td>1 HOSPITAL DR , COLUMBIA MO, 65201</td>\n",
       "      <td>NO</td>\n",
       "      <td>ASSAULT-SIMPLE</td>\n",
       "      <td>ASSAULT-SIMPLE</td>\n",
       "      <td>CLEARED BY ARREST</td>\n",
       "    </tr>\n",
       "    <tr>\n",
       "      <th>4</th>\n",
       "      <td>202300544</td>\n",
       "      <td>04/23/2023 10:08:08 am</td>\n",
       "      <td>04/23/2023 08:08:41 am-04/23/2023 10:08:08 am</td>\n",
       "      <td>1 HOSPITAL DR , COLUMBIA MO, 65201</td>\n",
       "      <td>NO</td>\n",
       "      <td>OTHER OFFENSE - NOT REPORTABLE</td>\n",
       "      <td>ASSAULT-SIMPLE</td>\n",
       "      <td>CLEARED BY ARREST</td>\n",
       "    </tr>\n",
       "  </tbody>\n",
       "</table>\n",
       "</div>"
      ],
      "text/plain": [
       "   case_number           time_reported  \\\n",
       "0    202300548  04/24/2023 04:56:00 pm   \n",
       "1    202300546  04/24/2023 05:57:00 am   \n",
       "2    202300545  04/23/2023 06:26:00 pm   \n",
       "3    202300544  04/23/2023 10:08:08 am   \n",
       "4    202300544  04/23/2023 10:08:08 am   \n",
       "\n",
       "                                    time_occured  \\\n",
       "0  04/24/2023 04:56:00 pm-04/24/2023 04:56:00 pm   \n",
       "1  04/24/2023 05:57:00 am-04/24/2023 05:57:00 am   \n",
       "2  04/23/2023 06:26:00 pm-04/23/2023 06:26:00 pm   \n",
       "3  04/23/2023 08:08:41 am-04/23/2023 10:08:08 am   \n",
       "4  04/23/2023 08:08:41 am-04/23/2023 10:08:08 am   \n",
       "\n",
       "                               location_of_occurence domestic_relationship  \\\n",
       "0              907 HITT ST , COLUMBIA MO, 65201                       NO     \n",
       "1            3 HOSPITAL DR , COLUMBIA MO, 65201                       NO     \n",
       "2  904 ELM STREET/ EIGHTH STREET , COLUMBIA MO, 6...                  NO     \n",
       "3            1 HOSPITAL DR , COLUMBIA MO, 65201                       NO     \n",
       "4            1 HOSPITAL DR , COLUMBIA MO, 65201                       NO     \n",
       "\n",
       "                    incident_type           criminal_offense  \\\n",
       "0                 PROPERTY DAMAGE            PROPERTY DAMAGE   \n",
       "1       OFFICE INFORMATION (MUPD)  OFFICE INFORMATION (MUPD)   \n",
       "2                      HARASSMENT                 HARASSMENT   \n",
       "3                  ASSAULT-SIMPLE             ASSAULT-SIMPLE   \n",
       "4  OTHER OFFENSE - NOT REPORTABLE             ASSAULT-SIMPLE   \n",
       "\n",
       "         disposition  \n",
       "0             ACTIVE  \n",
       "1             CLOSED  \n",
       "2             ACTIVE  \n",
       "3  CLEARED BY ARREST  \n",
       "4  CLEARED BY ARREST  "
      ]
     },
     "execution_count": 3,
     "metadata": {},
     "output_type": "execute_result"
    }
   ],
   "source": [
    "crime_log.head()"
   ]
  },
  {
   "cell_type": "markdown",
   "id": "cf7efe96-f3e2-4f8f-92bb-7358182dedfd",
   "metadata": {},
   "source": [
    "- location_of_occurence: fix comma spacing\n",
    "- time_occured: split into two separate columns\n",
    "- convert time columns to datetime"
   ]
  },
  {
   "cell_type": "code",
   "execution_count": 4,
   "id": "c399cadb-fb5b-4f47-86a1-65ca5c554846",
   "metadata": {},
   "outputs": [],
   "source": [
    "# fix comma spacing for location\n",
    "crime_log.location_of_occurence = crime_log.location_of_occurence.str.replace(' , ', ', ')"
   ]
  },
  {
   "cell_type": "code",
   "execution_count": 5,
   "id": "e5937bfd-2a0f-456a-ad82-c00814205163",
   "metadata": {},
   "outputs": [],
   "source": [
    "# split the time_occured column into two separate columns\n",
    "crime_log[['time_started', 'time_ended']] = crime_log.time_occured.str.split('-', expand=True)\n",
    "crime_log = crime_log.drop('time_occured', axis=1)"
   ]
  },
  {
   "cell_type": "code",
   "execution_count": 6,
   "id": "857c6742-3c3e-42ab-9212-70d745687beb",
   "metadata": {},
   "outputs": [],
   "source": [
    "# convert time columns into datetime format\n",
    "crime_log.time_reported = crime_log.time_reported.apply(lambda x: pd.to_datetime(x, format='%m/%d/%Y %I:%M:%S %p'))\n",
    "crime_log.time_started = crime_log.time_started.apply(lambda x: pd.to_datetime(x, format='%m/%d/%Y %I:%M:%S %p'))\n",
    "crime_log.time_ended = crime_log.time_ended.apply(lambda x: pd.to_datetime(x, format='%m/%d/%Y %I:%M:%S %p'))"
   ]
  },
  {
   "cell_type": "code",
   "execution_count": 7,
   "id": "1585d16e-d478-4c84-bcf3-2087ef35c9cd",
   "metadata": {},
   "outputs": [],
   "source": [
    "# rearrange columns so that datetimes are adjacent\n",
    "crime_log = crime_log.reindex(columns=['case_number', \n",
    "                                       'time_reported',\n",
    "                                       'time_started', \n",
    "                                       'time_ended',\n",
    "                                       'location_of_occurence',\n",
    "                                       'domestic_relationship', \n",
    "                                       'incident_type', \n",
    "                                       'criminal_offense',\n",
    "                                       'disposition'\n",
    "                                      ])"
   ]
  },
  {
   "cell_type": "code",
   "execution_count": 8,
   "id": "2c7afb2a-8ad8-45ae-a37b-3f9e8274107e",
   "metadata": {},
   "outputs": [],
   "source": [
    "# The forward slash followed by another street name in location_of_occurence was causing problems. Do minor cleanup here so that we can geocode with less error\n",
    "crime_log.location_of_occurence = crime_log.location_of_occurence.str.replace(r'/[^,]+', '', regex=True)\n",
    "\n",
    "# Some addresses have \"UNIVERSITY HOSPITAL\" in them, thus throwing errors when geocoding. It should actually be \"HOSPITAL DRIVE\". Use str.replace to clean.\n",
    "crime_log.location_of_occurence = crime_log.location_of_occurence.str.replace('UNIVERSITY HOSPITAL', 'HOSPITAL DRIVE')"
   ]
  },
  {
   "cell_type": "code",
   "execution_count": 9,
   "id": "d6914629-f2a5-4c12-9737-dc299a873163",
   "metadata": {},
   "outputs": [
    {
     "data": {
      "text/html": [
       "<div>\n",
       "<style scoped>\n",
       "    .dataframe tbody tr th:only-of-type {\n",
       "        vertical-align: middle;\n",
       "    }\n",
       "\n",
       "    .dataframe tbody tr th {\n",
       "        vertical-align: top;\n",
       "    }\n",
       "\n",
       "    .dataframe thead th {\n",
       "        text-align: right;\n",
       "    }\n",
       "</style>\n",
       "<table border=\"1\" class=\"dataframe\">\n",
       "  <thead>\n",
       "    <tr style=\"text-align: right;\">\n",
       "      <th></th>\n",
       "      <th>case_number</th>\n",
       "      <th>time_reported</th>\n",
       "      <th>time_started</th>\n",
       "      <th>time_ended</th>\n",
       "      <th>location_of_occurence</th>\n",
       "      <th>domestic_relationship</th>\n",
       "      <th>incident_type</th>\n",
       "      <th>criminal_offense</th>\n",
       "      <th>disposition</th>\n",
       "    </tr>\n",
       "  </thead>\n",
       "  <tbody>\n",
       "    <tr>\n",
       "      <th>0</th>\n",
       "      <td>202300548</td>\n",
       "      <td>2023-04-24 16:56:00</td>\n",
       "      <td>2023-04-24 16:56:00</td>\n",
       "      <td>2023-04-24 16:56:00</td>\n",
       "      <td>907 HITT ST, COLUMBIA MO, 65201</td>\n",
       "      <td>NO</td>\n",
       "      <td>PROPERTY DAMAGE</td>\n",
       "      <td>PROPERTY DAMAGE</td>\n",
       "      <td>ACTIVE</td>\n",
       "    </tr>\n",
       "    <tr>\n",
       "      <th>1</th>\n",
       "      <td>202300546</td>\n",
       "      <td>2023-04-24 05:57:00</td>\n",
       "      <td>2023-04-24 05:57:00</td>\n",
       "      <td>2023-04-24 05:57:00</td>\n",
       "      <td>3 HOSPITAL DR, COLUMBIA MO, 65201</td>\n",
       "      <td>NO</td>\n",
       "      <td>OFFICE INFORMATION (MUPD)</td>\n",
       "      <td>OFFICE INFORMATION (MUPD)</td>\n",
       "      <td>CLOSED</td>\n",
       "    </tr>\n",
       "    <tr>\n",
       "      <th>2</th>\n",
       "      <td>202300545</td>\n",
       "      <td>2023-04-23 18:26:00</td>\n",
       "      <td>2023-04-23 18:26:00</td>\n",
       "      <td>2023-04-23 18:26:00</td>\n",
       "      <td>904 ELM STREET, COLUMBIA MO, 65211</td>\n",
       "      <td>NO</td>\n",
       "      <td>HARASSMENT</td>\n",
       "      <td>HARASSMENT</td>\n",
       "      <td>ACTIVE</td>\n",
       "    </tr>\n",
       "    <tr>\n",
       "      <th>3</th>\n",
       "      <td>202300544</td>\n",
       "      <td>2023-04-23 10:08:08</td>\n",
       "      <td>2023-04-23 08:08:41</td>\n",
       "      <td>2023-04-23 10:08:08</td>\n",
       "      <td>1 HOSPITAL DR, COLUMBIA MO, 65201</td>\n",
       "      <td>NO</td>\n",
       "      <td>ASSAULT-SIMPLE</td>\n",
       "      <td>ASSAULT-SIMPLE</td>\n",
       "      <td>CLEARED BY ARREST</td>\n",
       "    </tr>\n",
       "    <tr>\n",
       "      <th>4</th>\n",
       "      <td>202300544</td>\n",
       "      <td>2023-04-23 10:08:08</td>\n",
       "      <td>2023-04-23 08:08:41</td>\n",
       "      <td>2023-04-23 10:08:08</td>\n",
       "      <td>1 HOSPITAL DR, COLUMBIA MO, 65201</td>\n",
       "      <td>NO</td>\n",
       "      <td>OTHER OFFENSE - NOT REPORTABLE</td>\n",
       "      <td>ASSAULT-SIMPLE</td>\n",
       "      <td>CLEARED BY ARREST</td>\n",
       "    </tr>\n",
       "  </tbody>\n",
       "</table>\n",
       "</div>"
      ],
      "text/plain": [
       "   case_number       time_reported        time_started          time_ended  \\\n",
       "0    202300548 2023-04-24 16:56:00 2023-04-24 16:56:00 2023-04-24 16:56:00   \n",
       "1    202300546 2023-04-24 05:57:00 2023-04-24 05:57:00 2023-04-24 05:57:00   \n",
       "2    202300545 2023-04-23 18:26:00 2023-04-23 18:26:00 2023-04-23 18:26:00   \n",
       "3    202300544 2023-04-23 10:08:08 2023-04-23 08:08:41 2023-04-23 10:08:08   \n",
       "4    202300544 2023-04-23 10:08:08 2023-04-23 08:08:41 2023-04-23 10:08:08   \n",
       "\n",
       "                     location_of_occurence domestic_relationship  \\\n",
       "0     907 HITT ST, COLUMBIA MO, 65201                       NO     \n",
       "1   3 HOSPITAL DR, COLUMBIA MO, 65201                       NO     \n",
       "2  904 ELM STREET, COLUMBIA MO, 65211                       NO     \n",
       "3   1 HOSPITAL DR, COLUMBIA MO, 65201                       NO     \n",
       "4   1 HOSPITAL DR, COLUMBIA MO, 65201                       NO     \n",
       "\n",
       "                    incident_type           criminal_offense  \\\n",
       "0                 PROPERTY DAMAGE            PROPERTY DAMAGE   \n",
       "1       OFFICE INFORMATION (MUPD)  OFFICE INFORMATION (MUPD)   \n",
       "2                      HARASSMENT                 HARASSMENT   \n",
       "3                  ASSAULT-SIMPLE             ASSAULT-SIMPLE   \n",
       "4  OTHER OFFENSE - NOT REPORTABLE             ASSAULT-SIMPLE   \n",
       "\n",
       "         disposition  \n",
       "0             ACTIVE  \n",
       "1             CLOSED  \n",
       "2             ACTIVE  \n",
       "3  CLEARED BY ARREST  \n",
       "4  CLEARED BY ARREST  "
      ]
     },
     "execution_count": 9,
     "metadata": {},
     "output_type": "execute_result"
    }
   ],
   "source": [
    "crime_log.head()"
   ]
  },
  {
   "cell_type": "markdown",
   "id": "70d80b2d-b638-42d2-b3d9-552695492c0e",
   "metadata": {},
   "source": [
    "## Export Data"
   ]
  },
  {
   "cell_type": "code",
   "execution_count": 10,
   "id": "9106bc01-02d4-4c78-8740-1fbf2296856b",
   "metadata": {},
   "outputs": [],
   "source": [
    "crime_log.to_csv('../data/crime-log-clean.csv', index=False)"
   ]
  }
 ],
 "metadata": {
  "kernelspec": {
   "display_name": "Python [conda env:health-inspections]",
   "language": "python",
   "name": "conda-env-health-inspections-py"
  },
  "language_info": {
   "codemirror_mode": {
    "name": "ipython",
    "version": 3
   },
   "file_extension": ".py",
   "mimetype": "text/x-python",
   "name": "python",
   "nbconvert_exporter": "python",
   "pygments_lexer": "ipython3",
   "version": "3.10.8"
  }
 },
 "nbformat": 4,
 "nbformat_minor": 5
}
