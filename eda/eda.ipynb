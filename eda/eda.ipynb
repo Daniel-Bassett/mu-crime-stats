{
 "cells": [
  {
   "cell_type": "markdown",
   "id": "da6c72f8-a545-4909-ae54-fbe4acf37c98",
   "metadata": {},
   "source": [
    "## Import Libraries"
   ]
  },
  {
   "cell_type": "code",
   "execution_count": 1,
   "id": "607ea9b2-0c5d-4156-8b0b-59fb4d79ab8c",
   "metadata": {},
   "outputs": [],
   "source": [
    "# data wrangling and exploration\n",
    "import numpy as np\n",
    "import pandas as pd\n",
    "\n",
    "# data visualization\n",
    "import matplotlib.pyplot as plt\n",
    "import seaborn as sns\n",
    "import plotly.express as px\n",
    "sns.set()"
   ]
  },
  {
   "cell_type": "markdown",
   "id": "575eb780-7df4-4655-ba08-7ba32274b5f8",
   "metadata": {},
   "source": [
    "## Data Wrangling"
   ]
  },
  {
   "cell_type": "code",
   "execution_count": 2,
   "id": "8fdcf1f9-12ac-47ab-9fda-bcf373b87e04",
   "metadata": {},
   "outputs": [],
   "source": [
    "# import data\n",
    "crime_df = pd.read_csv('../data/crime-log-geocode-raw.csv')"
   ]
  },
  {
   "cell_type": "code",
   "execution_count": 3,
   "id": "d9501233-4e71-470b-a0f4-aef087fe6c13",
   "metadata": {},
   "outputs": [
    {
     "data": {
      "text/plain": [
       "case_number              0\n",
       "time_reported            0\n",
       "time_started             0\n",
       "time_ended               0\n",
       "location_of_occurence    0\n",
       "domestic_relationship    0\n",
       "incident_type            0\n",
       "criminal_offense         0\n",
       "disposition              0\n",
       "latitude                 0\n",
       "longitude                0\n",
       "dtype: int64"
      ]
     },
     "execution_count": 3,
     "metadata": {},
     "output_type": "execute_result"
    }
   ],
   "source": [
    "# check for null values\n",
    "crime_df.isnull().sum()"
   ]
  },
  {
   "cell_type": "code",
   "execution_count": 4,
   "id": "39ecc8ec-b605-4f41-9fed-be05f1332813",
   "metadata": {},
   "outputs": [
    {
     "data": {
      "text/plain": [
       "5672"
      ]
     },
     "execution_count": 4,
     "metadata": {},
     "output_type": "execute_result"
    }
   ],
   "source": [
    "# check for duplicate values\n",
    "crime_df.duplicated().sum()"
   ]
  },
  {
   "cell_type": "code",
   "execution_count": 5,
   "id": "5767cea2-712f-4d6d-8af9-c381db4ac19a",
   "metadata": {},
   "outputs": [],
   "source": [
    "# drop duplicates\n",
    "crime_df = crime_df.drop_duplicates()\n",
    "\n",
    "# drop \"DRAWN IN ERROR\" values\n",
    "crime_df = crime_df.drop(crime_df[crime_df.incident_type == \"DRAWN IN ERROR\"].index)\n",
    "\n",
    "# drop \"OFFICE INFORMATION\" incidents\n",
    "crime_df = crime_df.drop(crime_df[crime_df.incident_type == \"OFFICE INFORMATION (MUPD)\"].index)\n",
    "\n",
    "# reset index after dropping duplicates\n",
    "crime_df = crime_df.reset_index(drop=True)"
   ]
  },
  {
   "cell_type": "code",
   "execution_count": 6,
   "id": "e22ff621-499e-4a43-ab10-35ec065652a5",
   "metadata": {},
   "outputs": [
    {
     "data": {
      "text/plain": [
       "case_number                int64\n",
       "time_reported             object\n",
       "time_started              object\n",
       "time_ended                object\n",
       "location_of_occurence     object\n",
       "domestic_relationship     object\n",
       "incident_type             object\n",
       "criminal_offense          object\n",
       "disposition               object\n",
       "latitude                 float64\n",
       "longitude                float64\n",
       "dtype: object"
      ]
     },
     "execution_count": 6,
     "metadata": {},
     "output_type": "execute_result"
    }
   ],
   "source": [
    "# check data types for each columns\n",
    "crime_df.dtypes"
   ]
  },
  {
   "cell_type": "code",
   "execution_count": 7,
   "id": "3b9a7bf6-6e82-44e2-a4af-860949aff989",
   "metadata": {},
   "outputs": [],
   "source": [
    "# convert date columns to datetime\n",
    "crime_df.time_reported = pd.to_datetime(crime_df.time_reported)\n",
    "crime_df.time_started = pd.to_datetime(crime_df.time_started)\n",
    "crime_df.time_ended = pd.to_datetime(crime_df.time_ended)"
   ]
  },
  {
   "cell_type": "markdown",
   "id": "a438c0da-2abc-43ef-ac94-7c11984b0ef1",
   "metadata": {
    "tags": []
   },
   "source": [
    "## Explore the Data"
   ]
  },
  {
   "cell_type": "markdown",
   "id": "f7657e3f-01a8-454b-bbea-04f9008f3910",
   "metadata": {},
   "source": [
    "### Criminal Offenses"
   ]
  },
  {
   "cell_type": "markdown",
   "id": "3bc4ac6f-9ee7-4500-8e7f-12b391d85dca",
   "metadata": {},
   "source": [
    "We can see from the first 20 rows of data that there are several larcenies and assaults each with their own subcategories. Let's check the value counts. It might be better to lump all assaults into one category instead of having multiple subcategories. For example, instead of \"ASSAULT - SIMPLE\", change it to just \"ASSAULT\"."
   ]
  },
  {
   "cell_type": "code",
   "execution_count": 8,
   "id": "d44b6daf-52a8-4ea8-b1f0-b3fe6b427df6",
   "metadata": {},
   "outputs": [
    {
     "data": {
      "text/html": [
       "<div>\n",
       "<style scoped>\n",
       "    .dataframe tbody tr th:only-of-type {\n",
       "        vertical-align: middle;\n",
       "    }\n",
       "\n",
       "    .dataframe tbody tr th {\n",
       "        vertical-align: top;\n",
       "    }\n",
       "\n",
       "    .dataframe thead th {\n",
       "        text-align: right;\n",
       "    }\n",
       "</style>\n",
       "<table border=\"1\" class=\"dataframe\">\n",
       "  <thead>\n",
       "    <tr style=\"text-align: right;\">\n",
       "      <th></th>\n",
       "      <th>case_number</th>\n",
       "      <th>time_reported</th>\n",
       "      <th>time_started</th>\n",
       "      <th>time_ended</th>\n",
       "      <th>location_of_occurence</th>\n",
       "      <th>domestic_relationship</th>\n",
       "      <th>incident_type</th>\n",
       "      <th>criminal_offense</th>\n",
       "      <th>disposition</th>\n",
       "      <th>latitude</th>\n",
       "      <th>longitude</th>\n",
       "    </tr>\n",
       "  </thead>\n",
       "  <tbody>\n",
       "    <tr>\n",
       "      <th>0</th>\n",
       "      <td>202300548</td>\n",
       "      <td>2023-04-24 16:56:00</td>\n",
       "      <td>2023-04-24 16:56:00</td>\n",
       "      <td>2023-04-24 16:56:00</td>\n",
       "      <td>907 HITT ST, COLUMBIA MO, 65201</td>\n",
       "      <td>NO</td>\n",
       "      <td>PROPERTY DAMAGE</td>\n",
       "      <td>PROPERTY DAMAGE</td>\n",
       "      <td>ACTIVE</td>\n",
       "      <td>38.939613</td>\n",
       "      <td>-9.232680e+01</td>\n",
       "    </tr>\n",
       "    <tr>\n",
       "      <th>1</th>\n",
       "      <td>202300545</td>\n",
       "      <td>2023-04-23 18:26:00</td>\n",
       "      <td>2023-04-23 18:26:00</td>\n",
       "      <td>2023-04-23 18:26:00</td>\n",
       "      <td>904 ELM STREET, COLUMBIA MO, 65211</td>\n",
       "      <td>NO</td>\n",
       "      <td>HARASSMENT</td>\n",
       "      <td>HARASSMENT</td>\n",
       "      <td>ACTIVE</td>\n",
       "      <td>38.948217</td>\n",
       "      <td>-9.232689e+01</td>\n",
       "    </tr>\n",
       "    <tr>\n",
       "      <th>2</th>\n",
       "      <td>202300544</td>\n",
       "      <td>2023-04-23 10:08:08</td>\n",
       "      <td>2023-04-23 08:08:41</td>\n",
       "      <td>2023-04-23 10:08:08</td>\n",
       "      <td>1 HOSPITAL DR, COLUMBIA MO, 65201</td>\n",
       "      <td>NO</td>\n",
       "      <td>ASSAULT-SIMPLE</td>\n",
       "      <td>ASSAULT-SIMPLE</td>\n",
       "      <td>CLEARED BY ARREST</td>\n",
       "      <td>38.938273</td>\n",
       "      <td>-9.232738e+01</td>\n",
       "    </tr>\n",
       "    <tr>\n",
       "      <th>3</th>\n",
       "      <td>202300544</td>\n",
       "      <td>2023-04-23 10:08:08</td>\n",
       "      <td>2023-04-23 08:08:41</td>\n",
       "      <td>2023-04-23 10:08:08</td>\n",
       "      <td>1 HOSPITAL DR, COLUMBIA MO, 65201</td>\n",
       "      <td>NO</td>\n",
       "      <td>OTHER OFFENSE - NOT REPORTABLE</td>\n",
       "      <td>ASSAULT-SIMPLE</td>\n",
       "      <td>CLEARED BY ARREST</td>\n",
       "      <td>38.938273</td>\n",
       "      <td>-9.232738e+01</td>\n",
       "    </tr>\n",
       "    <tr>\n",
       "      <th>4</th>\n",
       "      <td>202300542</td>\n",
       "      <td>2023-04-22 23:55:00</td>\n",
       "      <td>2023-04-22 23:55:00</td>\n",
       "      <td>2023-04-22 23:55:00</td>\n",
       "      <td>399 E STADIUM BLVD, COLUMBIA MO, 65203</td>\n",
       "      <td>NO</td>\n",
       "      <td>TRAFFIC OFFENSE</td>\n",
       "      <td>TRAFFIC OFFENSE</td>\n",
       "      <td>CLEARED BY ARREST</td>\n",
       "      <td>38.938349</td>\n",
       "      <td>-9.233316e+01</td>\n",
       "    </tr>\n",
       "    <tr>\n",
       "      <th>5</th>\n",
       "      <td>202300542</td>\n",
       "      <td>2023-04-22 23:55:00</td>\n",
       "      <td>2023-04-22 23:55:00</td>\n",
       "      <td>2023-04-22 23:55:00</td>\n",
       "      <td>399 E STADIUM BLVD, COLUMBIA MO, 65203</td>\n",
       "      <td>NO</td>\n",
       "      <td>WARRANT ARREST</td>\n",
       "      <td>TRAFFIC OFFENSE</td>\n",
       "      <td>CLEARED BY ARREST</td>\n",
       "      <td>38.938349</td>\n",
       "      <td>-9.233316e+01</td>\n",
       "    </tr>\n",
       "    <tr>\n",
       "      <th>6</th>\n",
       "      <td>202300541</td>\n",
       "      <td>2023-04-22 21:18:00</td>\n",
       "      <td>2023-04-22 21:18:00</td>\n",
       "      <td>2023-04-22 21:18:00</td>\n",
       "      <td>1 HOSPITAL DRIVE, COLUMBIA MO, 65201</td>\n",
       "      <td>NO</td>\n",
       "      <td>ASSAULT-SIMPLE</td>\n",
       "      <td>ASSAULT-SIMPLE</td>\n",
       "      <td>CLEARED BY ARREST</td>\n",
       "      <td>38.938273</td>\n",
       "      <td>-9.232738e+01</td>\n",
       "    </tr>\n",
       "    <tr>\n",
       "      <th>7</th>\n",
       "      <td>202300540</td>\n",
       "      <td>2023-04-22 10:23:00</td>\n",
       "      <td>2023-04-22 10:23:00</td>\n",
       "      <td>2023-04-22 10:23:00</td>\n",
       "      <td>1 HOSPITAL DR, COLUMBIA MO, 65201</td>\n",
       "      <td>NO</td>\n",
       "      <td>LARCENY - SHOPLIFTING</td>\n",
       "      <td>LARCENY - SHOPLIFTING</td>\n",
       "      <td>EXCEPTIONALLY CLEARED</td>\n",
       "      <td>38.938273</td>\n",
       "      <td>-9.232738e+01</td>\n",
       "    </tr>\n",
       "    <tr>\n",
       "      <th>8</th>\n",
       "      <td>202300539</td>\n",
       "      <td>2023-04-22 07:22:00</td>\n",
       "      <td>2023-04-22 07:22:00</td>\n",
       "      <td>2023-04-22 07:22:00</td>\n",
       "      <td>115 MIZZOU NORTH, COLUMBIA MO, 65201</td>\n",
       "      <td>NO</td>\n",
       "      <td>LARCENY - THEFT FROM BUILDING</td>\n",
       "      <td>LARCENY - THEFT FROM BUILDING</td>\n",
       "      <td>ACTIVE</td>\n",
       "      <td>38.967138</td>\n",
       "      <td>-9.233914e+01</td>\n",
       "    </tr>\n",
       "    <tr>\n",
       "      <th>9</th>\n",
       "      <td>202300538</td>\n",
       "      <td>2023-04-22 01:06:00</td>\n",
       "      <td>2023-04-22 01:06:00</td>\n",
       "      <td>2023-04-22 01:06:00</td>\n",
       "      <td>949 CONLEY AVE, COLUMBIA MO, 65201</td>\n",
       "      <td>NO</td>\n",
       "      <td>TRAFFIC OFFENSE</td>\n",
       "      <td>TRAFFIC OFFENSE</td>\n",
       "      <td>CLEARED BY ARREST</td>\n",
       "      <td>0.168257</td>\n",
       "      <td>9.087286e+07</td>\n",
       "    </tr>\n",
       "    <tr>\n",
       "      <th>10</th>\n",
       "      <td>202300537</td>\n",
       "      <td>2023-04-21 21:49:00</td>\n",
       "      <td>2023-04-21 09:09:00</td>\n",
       "      <td>2023-04-21 21:49:00</td>\n",
       "      <td>1 HOSPITAL DR, COLUMBIA MO, 65201</td>\n",
       "      <td>NO</td>\n",
       "      <td>MISSING PERSON</td>\n",
       "      <td>MISSING PERSON</td>\n",
       "      <td>ACTIVE</td>\n",
       "      <td>38.938273</td>\n",
       "      <td>-9.232738e+01</td>\n",
       "    </tr>\n",
       "    <tr>\n",
       "      <th>11</th>\n",
       "      <td>202300536</td>\n",
       "      <td>2023-04-21 18:04:00</td>\n",
       "      <td>2023-04-21 18:03:59</td>\n",
       "      <td>2023-04-21 18:04:00</td>\n",
       "      <td>999 CHAMPIONS DR, COLUMBIA MO, 65201</td>\n",
       "      <td>NO</td>\n",
       "      <td>CRASH INVESTIGATION</td>\n",
       "      <td>CRASH INVESTIGATION</td>\n",
       "      <td>CLOSED</td>\n",
       "      <td>38.934358</td>\n",
       "      <td>-9.232675e+01</td>\n",
       "    </tr>\n",
       "    <tr>\n",
       "      <th>12</th>\n",
       "      <td>202300535</td>\n",
       "      <td>2023-04-21 08:28:00</td>\n",
       "      <td>2023-04-21 03:00:00</td>\n",
       "      <td>2023-04-21 05:30:00</td>\n",
       "      <td>599 E STEWART RD, COLUMBIA MO, 65201</td>\n",
       "      <td>NO</td>\n",
       "      <td>PROPERTY DAMAGE</td>\n",
       "      <td>PROPERTY DAMAGE</td>\n",
       "      <td>ACTIVE</td>\n",
       "      <td>38.945950</td>\n",
       "      <td>-9.233096e+01</td>\n",
       "    </tr>\n",
       "    <tr>\n",
       "      <th>13</th>\n",
       "      <td>202300534</td>\n",
       "      <td>2023-04-21 02:09:00</td>\n",
       "      <td>2023-04-21 02:09:00</td>\n",
       "      <td>2023-04-21 02:09:00</td>\n",
       "      <td>399 W STADIUM BLVD, COLUMBIA MO, 65203</td>\n",
       "      <td>NO</td>\n",
       "      <td>DWI</td>\n",
       "      <td>DWI</td>\n",
       "      <td>CLEARED BY ARREST</td>\n",
       "      <td>0.168257</td>\n",
       "      <td>9.087062e+07</td>\n",
       "    </tr>\n",
       "    <tr>\n",
       "      <th>14</th>\n",
       "      <td>202300533</td>\n",
       "      <td>2023-04-21 01:34:00</td>\n",
       "      <td>2023-04-21 01:34:00</td>\n",
       "      <td>2023-04-21 01:34:00</td>\n",
       "      <td>1089 ROLLINS ST, COLUMBIA MO, 65201</td>\n",
       "      <td>NO</td>\n",
       "      <td>FORGERY</td>\n",
       "      <td>FORGERY</td>\n",
       "      <td>CLEARED BY ARREST</td>\n",
       "      <td>38.942189</td>\n",
       "      <td>-9.232578e+01</td>\n",
       "    </tr>\n",
       "    <tr>\n",
       "      <th>15</th>\n",
       "      <td>202300532</td>\n",
       "      <td>2023-04-21 01:02:00</td>\n",
       "      <td>2023-04-21 01:01:59</td>\n",
       "      <td>2023-04-21 01:02:00</td>\n",
       "      <td>800 VIRGINIA AVE, COLUMBIA MO, 65201</td>\n",
       "      <td>NO</td>\n",
       "      <td>TRAFFIC OFFENSE</td>\n",
       "      <td>FORGERY</td>\n",
       "      <td>CLEARED BY ARREST</td>\n",
       "      <td>38.941356</td>\n",
       "      <td>-9.232311e+01</td>\n",
       "    </tr>\n",
       "    <tr>\n",
       "      <th>16</th>\n",
       "      <td>202300532</td>\n",
       "      <td>2023-04-21 01:02:00</td>\n",
       "      <td>2023-04-21 01:01:59</td>\n",
       "      <td>2023-04-21 01:02:00</td>\n",
       "      <td>800 VIRGINIA AVE, COLUMBIA MO, 65201</td>\n",
       "      <td>NO</td>\n",
       "      <td>FORGERY</td>\n",
       "      <td>FORGERY</td>\n",
       "      <td>CLEARED BY ARREST</td>\n",
       "      <td>38.941356</td>\n",
       "      <td>-9.232311e+01</td>\n",
       "    </tr>\n",
       "    <tr>\n",
       "      <th>17</th>\n",
       "      <td>202300532</td>\n",
       "      <td>2023-04-21 01:02:00</td>\n",
       "      <td>2023-04-21 01:01:59</td>\n",
       "      <td>2023-04-21 01:02:00</td>\n",
       "      <td>800 VIRGINIA AVE, COLUMBIA MO, 65201</td>\n",
       "      <td>NO</td>\n",
       "      <td>DWI</td>\n",
       "      <td>FORGERY</td>\n",
       "      <td>CLEARED BY ARREST</td>\n",
       "      <td>38.941356</td>\n",
       "      <td>-9.232311e+01</td>\n",
       "    </tr>\n",
       "    <tr>\n",
       "      <th>18</th>\n",
       "      <td>202300531</td>\n",
       "      <td>2023-04-21 00:24:00</td>\n",
       "      <td>2023-04-21 00:24:00</td>\n",
       "      <td>2023-04-21 00:24:00</td>\n",
       "      <td>1306 ROLLINS ST, COLUMBIA MO, 65201</td>\n",
       "      <td>NO</td>\n",
       "      <td>LIQUOR LAW</td>\n",
       "      <td>FORGERY</td>\n",
       "      <td>EXCEPTIONALLY CLEARED</td>\n",
       "      <td>38.940721</td>\n",
       "      <td>-9.232037e+01</td>\n",
       "    </tr>\n",
       "    <tr>\n",
       "      <th>19</th>\n",
       "      <td>202300531</td>\n",
       "      <td>2023-04-21 00:24:00</td>\n",
       "      <td>2023-04-21 00:24:00</td>\n",
       "      <td>2023-04-21 00:24:00</td>\n",
       "      <td>1306 ROLLINS ST, COLUMBIA MO, 65201</td>\n",
       "      <td>NO</td>\n",
       "      <td>FORGERY</td>\n",
       "      <td>FORGERY</td>\n",
       "      <td>EXCEPTIONALLY CLEARED</td>\n",
       "      <td>38.940721</td>\n",
       "      <td>-9.232037e+01</td>\n",
       "    </tr>\n",
       "  </tbody>\n",
       "</table>\n",
       "</div>"
      ],
      "text/plain": [
       "    case_number       time_reported        time_started          time_ended  \\\n",
       "0     202300548 2023-04-24 16:56:00 2023-04-24 16:56:00 2023-04-24 16:56:00   \n",
       "1     202300545 2023-04-23 18:26:00 2023-04-23 18:26:00 2023-04-23 18:26:00   \n",
       "2     202300544 2023-04-23 10:08:08 2023-04-23 08:08:41 2023-04-23 10:08:08   \n",
       "3     202300544 2023-04-23 10:08:08 2023-04-23 08:08:41 2023-04-23 10:08:08   \n",
       "4     202300542 2023-04-22 23:55:00 2023-04-22 23:55:00 2023-04-22 23:55:00   \n",
       "5     202300542 2023-04-22 23:55:00 2023-04-22 23:55:00 2023-04-22 23:55:00   \n",
       "6     202300541 2023-04-22 21:18:00 2023-04-22 21:18:00 2023-04-22 21:18:00   \n",
       "7     202300540 2023-04-22 10:23:00 2023-04-22 10:23:00 2023-04-22 10:23:00   \n",
       "8     202300539 2023-04-22 07:22:00 2023-04-22 07:22:00 2023-04-22 07:22:00   \n",
       "9     202300538 2023-04-22 01:06:00 2023-04-22 01:06:00 2023-04-22 01:06:00   \n",
       "10    202300537 2023-04-21 21:49:00 2023-04-21 09:09:00 2023-04-21 21:49:00   \n",
       "11    202300536 2023-04-21 18:04:00 2023-04-21 18:03:59 2023-04-21 18:04:00   \n",
       "12    202300535 2023-04-21 08:28:00 2023-04-21 03:00:00 2023-04-21 05:30:00   \n",
       "13    202300534 2023-04-21 02:09:00 2023-04-21 02:09:00 2023-04-21 02:09:00   \n",
       "14    202300533 2023-04-21 01:34:00 2023-04-21 01:34:00 2023-04-21 01:34:00   \n",
       "15    202300532 2023-04-21 01:02:00 2023-04-21 01:01:59 2023-04-21 01:02:00   \n",
       "16    202300532 2023-04-21 01:02:00 2023-04-21 01:01:59 2023-04-21 01:02:00   \n",
       "17    202300532 2023-04-21 01:02:00 2023-04-21 01:01:59 2023-04-21 01:02:00   \n",
       "18    202300531 2023-04-21 00:24:00 2023-04-21 00:24:00 2023-04-21 00:24:00   \n",
       "19    202300531 2023-04-21 00:24:00 2023-04-21 00:24:00 2023-04-21 00:24:00   \n",
       "\n",
       "                          location_of_occurence domestic_relationship  \\\n",
       "0          907 HITT ST, COLUMBIA MO, 65201                       NO     \n",
       "1       904 ELM STREET, COLUMBIA MO, 65211                       NO     \n",
       "2        1 HOSPITAL DR, COLUMBIA MO, 65201                       NO     \n",
       "3        1 HOSPITAL DR, COLUMBIA MO, 65201                       NO     \n",
       "4   399 E STADIUM BLVD, COLUMBIA MO, 65203                       NO     \n",
       "5   399 E STADIUM BLVD, COLUMBIA MO, 65203                       NO     \n",
       "6     1 HOSPITAL DRIVE, COLUMBIA MO, 65201                       NO     \n",
       "7        1 HOSPITAL DR, COLUMBIA MO, 65201                       NO     \n",
       "8     115 MIZZOU NORTH, COLUMBIA MO, 65201                       NO     \n",
       "9       949 CONLEY AVE, COLUMBIA MO, 65201                       NO     \n",
       "10       1 HOSPITAL DR, COLUMBIA MO, 65201                       NO     \n",
       "11    999 CHAMPIONS DR, COLUMBIA MO, 65201                       NO     \n",
       "12    599 E STEWART RD, COLUMBIA MO, 65201                       NO     \n",
       "13  399 W STADIUM BLVD, COLUMBIA MO, 65203                       NO     \n",
       "14     1089 ROLLINS ST, COLUMBIA MO, 65201                       NO     \n",
       "15    800 VIRGINIA AVE, COLUMBIA MO, 65201                       NO     \n",
       "16    800 VIRGINIA AVE, COLUMBIA MO, 65201                       NO     \n",
       "17    800 VIRGINIA AVE, COLUMBIA MO, 65201                       NO     \n",
       "18     1306 ROLLINS ST, COLUMBIA MO, 65201                       NO     \n",
       "19     1306 ROLLINS ST, COLUMBIA MO, 65201                       NO     \n",
       "\n",
       "                     incident_type               criminal_offense  \\\n",
       "0                  PROPERTY DAMAGE                PROPERTY DAMAGE   \n",
       "1                       HARASSMENT                     HARASSMENT   \n",
       "2                   ASSAULT-SIMPLE                 ASSAULT-SIMPLE   \n",
       "3   OTHER OFFENSE - NOT REPORTABLE                 ASSAULT-SIMPLE   \n",
       "4                  TRAFFIC OFFENSE                TRAFFIC OFFENSE   \n",
       "5                   WARRANT ARREST                TRAFFIC OFFENSE   \n",
       "6                   ASSAULT-SIMPLE                 ASSAULT-SIMPLE   \n",
       "7            LARCENY - SHOPLIFTING          LARCENY - SHOPLIFTING   \n",
       "8    LARCENY - THEFT FROM BUILDING  LARCENY - THEFT FROM BUILDING   \n",
       "9                  TRAFFIC OFFENSE                TRAFFIC OFFENSE   \n",
       "10                  MISSING PERSON                 MISSING PERSON   \n",
       "11             CRASH INVESTIGATION            CRASH INVESTIGATION   \n",
       "12                 PROPERTY DAMAGE                PROPERTY DAMAGE   \n",
       "13                             DWI                            DWI   \n",
       "14                         FORGERY                        FORGERY   \n",
       "15                 TRAFFIC OFFENSE                        FORGERY   \n",
       "16                         FORGERY                        FORGERY   \n",
       "17                             DWI                        FORGERY   \n",
       "18                      LIQUOR LAW                        FORGERY   \n",
       "19                         FORGERY                        FORGERY   \n",
       "\n",
       "              disposition   latitude     longitude  \n",
       "0                  ACTIVE  38.939613 -9.232680e+01  \n",
       "1                  ACTIVE  38.948217 -9.232689e+01  \n",
       "2       CLEARED BY ARREST  38.938273 -9.232738e+01  \n",
       "3       CLEARED BY ARREST  38.938273 -9.232738e+01  \n",
       "4       CLEARED BY ARREST  38.938349 -9.233316e+01  \n",
       "5       CLEARED BY ARREST  38.938349 -9.233316e+01  \n",
       "6       CLEARED BY ARREST  38.938273 -9.232738e+01  \n",
       "7   EXCEPTIONALLY CLEARED  38.938273 -9.232738e+01  \n",
       "8                  ACTIVE  38.967138 -9.233914e+01  \n",
       "9       CLEARED BY ARREST   0.168257  9.087286e+07  \n",
       "10                 ACTIVE  38.938273 -9.232738e+01  \n",
       "11                 CLOSED  38.934358 -9.232675e+01  \n",
       "12                 ACTIVE  38.945950 -9.233096e+01  \n",
       "13      CLEARED BY ARREST   0.168257  9.087062e+07  \n",
       "14      CLEARED BY ARREST  38.942189 -9.232578e+01  \n",
       "15      CLEARED BY ARREST  38.941356 -9.232311e+01  \n",
       "16      CLEARED BY ARREST  38.941356 -9.232311e+01  \n",
       "17      CLEARED BY ARREST  38.941356 -9.232311e+01  \n",
       "18  EXCEPTIONALLY CLEARED  38.940721 -9.232037e+01  \n",
       "19  EXCEPTIONALLY CLEARED  38.940721 -9.232037e+01  "
      ]
     },
     "execution_count": 8,
     "metadata": {},
     "output_type": "execute_result"
    }
   ],
   "source": [
    "crime_df.head(20)"
   ]
  },
  {
   "cell_type": "code",
   "execution_count": 9,
   "id": "7cdbb1b3-ce95-411f-86de-3ebe14fa67e0",
   "metadata": {},
   "outputs": [
    {
     "data": {
      "text/plain": [
       "FORGERY                     1441\n",
       "DRUG - NARCOTIC             1273\n",
       "TRAFFIC OFFENSE              567\n",
       "LIQUOR LAW                   539\n",
       "DWI                          533\n",
       "ASSAULT-SIMPLE               428\n",
       "CRASH INVESTIGATION          425\n",
       "LARCENY - OTHER              412\n",
       "PROPERTY DAMAGE              392\n",
       "SICK/MENTALLY ILL PERSON     267\n",
       "Name: criminal_offense, dtype: int64"
      ]
     },
     "execution_count": 9,
     "metadata": {},
     "output_type": "execute_result"
    }
   ],
   "source": [
    "# value count for criminal_offense\n",
    "crime_df.criminal_offense.value_counts().head(10)"
   ]
  },
  {
   "cell_type": "markdown",
   "id": "806e59e9-967c-4ae8-8e32-dededa17c0d5",
   "metadata": {},
   "source": [
    "I thought there would be more larceny offenses. What happens if we combine all subcategories of larceny into one large category? Let's do the same for other criminal offenses as well. We can keep the original column for more detail and create a new column for the general category."
   ]
  },
  {
   "cell_type": "code",
   "execution_count": 10,
   "id": "2c69f8e3-f589-44fc-ba65-2faaafa260a4",
   "metadata": {},
   "outputs": [
    {
     "data": {
      "text/plain": [
       "(853, 11)"
      ]
     },
     "execution_count": 10,
     "metadata": {},
     "output_type": "execute_result"
    }
   ],
   "source": [
    "# check number of larceny incidents\n",
    "crime_df.query('criminal_offense.str.contains(\"LARCENY\")').shape"
   ]
  },
  {
   "cell_type": "markdown",
   "id": "932d06f1-b9ef-4756-9754-d0a1ccf990c8",
   "metadata": {},
   "source": [
    "As you can see, if we filter the dataframe for all offenses that are larceny, it returns 853 incidents. In the original value count, this would have made it a top 3 crime. Let's go ahead and put all incidents into their respective general categories and check the results."
   ]
  },
  {
   "cell_type": "code",
   "execution_count": 11,
   "id": "56f7aa2d-af98-48fb-b1fc-c5aed5f90d3b",
   "metadata": {},
   "outputs": [
    {
     "ename": "NameError",
     "evalue": "name 'temp_df' is not defined",
     "output_type": "error",
     "traceback": [
      "\u001b[1;31m---------------------------------------------------------------------------\u001b[0m",
      "\u001b[1;31mNameError\u001b[0m                                 Traceback (most recent call last)",
      "Cell \u001b[1;32mIn[11], line 10\u001b[0m\n\u001b[0;32m      8\u001b[0m plt\u001b[38;5;241m.\u001b[39mxlabel(\u001b[38;5;124m'\u001b[39m\u001b[38;5;124mOffense Type\u001b[39m\u001b[38;5;124m'\u001b[39m, fontsize\u001b[38;5;241m=\u001b[39m\u001b[38;5;241m15\u001b[39m)\n\u001b[0;32m      9\u001b[0m plt\u001b[38;5;241m.\u001b[39mylabel(\u001b[38;5;124m'\u001b[39m\u001b[38;5;124mCount\u001b[39m\u001b[38;5;124m'\u001b[39m, fontsize\u001b[38;5;241m=\u001b[39m\u001b[38;5;241m15\u001b[39m)\n\u001b[1;32m---> 10\u001b[0m sns\u001b[38;5;241m.\u001b[39mbarplot(x\u001b[38;5;241m=\u001b[39m\u001b[43mtemp_df\u001b[49m\u001b[38;5;241m.\u001b[39mindex, y\u001b[38;5;241m=\u001b[39mtemp_df\u001b[38;5;241m.\u001b[39mvalues)\n\u001b[0;32m     12\u001b[0m plt\u001b[38;5;241m.\u001b[39mshow()\n",
      "\u001b[1;31mNameError\u001b[0m: name 'temp_df' is not defined"
     ]
    },
    {
     "data": {
      "image/png": "[encoded data removed]",
      "text/plain": [
       "<Figure size 700x500 with 1 Axes>"
      ]
     },
     "metadata": {},
     "output_type": "display_data"
    }
   ],
   "source": [
    "# create new column of a generalization of criminal offenses\n",
    "crime_df['general_offense'] = crime_df.criminal_offense.str.replace(r'-.*', '', regex=True)\n",
    "\n",
    "# plot top 10 criminal incidents\n",
    "plt.figure(figsize=(7, 5))\n",
    "plt.title('MU Criminal Incidents 2019 - 2023', fontsize=20)\n",
    "plt.xticks(rotation=50, fontsize=10)\n",
    "plt.xlabel('Offense Type', fontsize=15)\n",
    "plt.ylabel('Count', fontsize=15)\n",
    "sns.barplot(x=temp_df.index, y=temp_df.values)\n",
    "\n",
    "plt.show()\n",
    "\n",
    "\n"
   ]
  },
  {
   "cell_type": "markdown",
   "id": "982ef6dc-1977-4b83-b4f0-a9ef5b003525",
   "metadata": {},
   "source": [
    "### Criminal Activity Locations"
   ]
  },
  {
   "cell_type": "code",
   "execution_count": null,
   "id": "08690206-d614-456e-a2b2-62bc81c80c82",
   "metadata": {},
   "outputs": [],
   "source": [
    "# value count for location\n",
    "crime_df.location_of_occurence.value_counts().head(10)"
   ]
  },
  {
   "cell_type": "markdown",
   "id": "52087caf-e899-450a-ad36-bf4e47b51f32",
   "metadata": {},
   "source": [
    "A lot of incidents occuring near the hospital. Including \"901 Virginia Ave\", that is almost 20% of incidents happening near the hospital. It might be worth exploring the types of activities just in that area as compared to all the data."
   ]
  },
  {
   "cell_type": "code",
   "execution_count": null,
   "id": "677b0525-c27d-4eb4-b253-cdc3f241063f",
   "metadata": {},
   "outputs": [],
   "source": [
    "# Create a Plotly Express figure with a scatter_mapbox trace and a density_mapbox layer\n",
    "\n",
    "# px.set_mapbox_access_token('your_mapbox_access_token')\n",
    "\n",
    "fig = px.density_mapbox(\n",
    "    crime_df,\n",
    "    lat='latitude',\n",
    "    lon='longitude',\n",
    "    radius=15,  # Adjust the radius to control the level of aggregation\n",
    "    center=dict(lat=38.94244, lon=-92.3269),  # Set the center coordinates of the map\n",
    "    zoom=15,  # Set the initial zoom level\n",
    "    mapbox_style='open-street-map',\n",
    "    hover_name='location_of_occurence',  # Optional: Set a column to show when hovering over points\n",
    "        color_continuous_scale=px.colors.plotlyjs.Blackbody,  # Choose the color scale\n",
    ")\n",
    "\n",
    "fig.update_layout(width=800, height=600)\n",
    "\n",
    "fig.show()\n"
   ]
  },
  {
   "cell_type": "code",
   "execution_count": null,
   "id": "122b809d-7862-4c49-abdb-2ec74e459c26",
   "metadata": {},
   "outputs": [],
   "source": [
    "temp_df = crime_df.groupby(['latitude', 'longitude', 'location_of_occurence'], as_index=False).size().sort_values(by='size', ascending=False)"
   ]
  },
  {
   "cell_type": "code",
   "execution_count": null,
   "id": "9f7d8076-85b0-4672-8f01-940b1e29ec2c",
   "metadata": {},
   "outputs": [],
   "source": []
  }
 ],
 "metadata": {
  "kernelspec": {
   "display_name": "Python [conda env:lyrics_analysis]",
   "language": "python",
   "name": "conda-env-lyrics_analysis-py"
  },
  "language_info": {
   "codemirror_mode": {
    "name": "ipython",
    "version": 3
   },
   "file_extension": ".py",
   "mimetype": "text/x-python",
   "name": "python",
   "nbconvert_exporter": "python",
   "pygments_lexer": "ipython3",
   "version": "3.9.15"
  }
 },
 "nbformat": 4,
 "nbformat_minor": 5
}
